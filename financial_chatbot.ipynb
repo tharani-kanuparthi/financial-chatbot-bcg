{
 "cells": [
  {
   "cell_type": "code",
   "execution_count": null,
   "id": "fb1f7850-c153-4905-ad15-0aea546fe2cd",
   "metadata": {},
   "outputs": [
    {
     "name": "stdout",
     "output_type": "stream",
     "text": [
      "Welcome to the Financial Chatbot!\n",
      "Ask me one of these:\n",
      "- What is the total revenue for Microsoft in 2024?\n",
      "- How has Tesla’s net income changed from 2023 to 2024?\n",
      "- What is Apple’s total assets in 2010?\n",
      "- What is Microsoft’s cash flow from operating activities in 2023?\n",
      "- What is Tesla’s total liabilities in 2022?\n"
     ]
    },
    {
     "name": "stdin",
     "output_type": "stream",
     "text": [
      "\n",
      "You:  what is the total revenue for microsoft in 2024?\n"
     ]
    },
    {
     "name": "stdout",
     "output_type": "stream",
     "text": [
      "Chatbot: Sorry, I can only provide information on predefined queries.\n"
     ]
    },
    {
     "name": "stdin",
     "output_type": "stream",
     "text": [
      "\n",
      "You:  What is the total revenue for Microsoft in 2024?\n"
     ]
    },
    {
     "name": "stdout",
     "output_type": "stream",
     "text": [
      "Chatbot: The total revenue for Microsoft in 2024 is $245,122,000,000.\n"
     ]
    },
    {
     "name": "stdin",
     "output_type": "stream",
     "text": [
      "\n",
      "You:  How has Tesla’s net income changed from 2023 to 2024?\n"
     ]
    },
    {
     "name": "stdout",
     "output_type": "stream",
     "text": [
      "Chatbot: Tesla’s net income decreased by $7,821,000,000 from 2023 to 2024.\n"
     ]
    },
    {
     "name": "stdin",
     "output_type": "stream",
     "text": [
      "\n",
      "You:  What is Tesla’s total liabilities in 2022?\n"
     ]
    },
    {
     "name": "stdout",
     "output_type": "stream",
     "text": [
      "Chatbot: Tesla’s total liabilities in 2022 were $36,440,000,000.\n"
     ]
    }
   ],
   "source": [
    "def simple_chatbot(user_query):\n",
    "    if user_query == \"What is the total revenue for Microsoft in 2024?\":\n",
    "        return \"The total revenue for Microsoft in 2024 is $245,122,000,000.\"\n",
    "    elif user_query == \"How has Tesla’s net income changed from 2023 to 2024?\":\n",
    "        return \"Tesla’s net income decreased by $7,821,000,000 from 2023 to 2024.\"\n",
    "    elif user_query == \"What is Apple’s total assets in 2010?\":\n",
    "        return \"Apple’s total assets in 2010 were $75,183 million.\"\n",
    "    elif user_query == \"What is Microsoft’s cash flow from operating activities in 2023?\":\n",
    "        return \"Microsoft’s cash flow from operating activities in 2023 was $87,582,000,000.\"\n",
    "    elif user_query == \"What is Tesla’s total liabilities in 2022?\":\n",
    "        return \"Tesla’s total liabilities in 2022 were $36,440,000,000.\"\n",
    "    else:\n",
    "        return \"Sorry, I can only provide information on predefined queries.\"\n",
    "\n",
    "# Command-line interaction\n",
    "def run_chatbot():\n",
    "    print(\"Welcome to the Financial Chatbot!\")\n",
    "    print(\"Ask me one of these:\\n\"\n",
    "          \"- What is the total revenue for Microsoft in 2024?\\n\"\n",
    "          \"- How has Tesla’s net income changed from 2023 to 2024?\\n\"\n",
    "          \"- What is Apple’s total assets in 2010?\\n\"\n",
    "          \"- What is Microsoft’s cash flow from operating activities in 2023?\\n\"\n",
    "          \"- What is Tesla’s total liabilities in 2022?\")\n",
    "    while True:\n",
    "        user_input = input(\"\\nYou: \")\n",
    "        if user_input.lower() in [\"exit\", \"quit\"]:\n",
    "            print(\"Chatbot: Goodbye!\")\n",
    "            break\n",
    "        response = simple_chatbot(user_input)\n",
    "        print(f\"Chatbot: {response}\")\n",
    "\n",
    "if __name__ == \"__main__\":\n",
    "    run_chatbot()"
   ]
  },
  {
   "cell_type": "code",
   "execution_count": null,
   "id": "8fb51cf7-7298-4e5d-a485-b0b52568f688",
   "metadata": {},
   "outputs": [],
   "source": []
  }
 ],
 "metadata": {
  "kernelspec": {
   "display_name": "Python 3 (ipykernel)",
   "language": "python",
   "name": "python3"
  },
  "language_info": {
   "codemirror_mode": {
    "name": "ipython",
    "version": 3
   },
   "file_extension": ".py",
   "mimetype": "text/x-python",
   "name": "python",
   "nbconvert_exporter": "python",
   "pygments_lexer": "ipython3",
   "version": "3.13.3"
  }
 },
 "nbformat": 4,
 "nbformat_minor": 5
}
